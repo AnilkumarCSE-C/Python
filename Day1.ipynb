{
 "cells": [
  {
   "cell_type": "code",
   "execution_count": 9,
   "metadata": {
    "scrolled": true
   },
   "outputs": [
    {
     "ename": "SyntaxError",
     "evalue": "invalid syntax (<ipython-input-9-9b40187649f0>, line 1)",
     "output_type": "error",
     "traceback": [
      "\u001b[1;36m  File \u001b[1;32m\"<ipython-input-9-9b40187649f0>\"\u001b[1;36m, line \u001b[1;32m1\u001b[0m\n\u001b[1;33m    <img src=\"sample.jpg\">\u001b[0m\n\u001b[1;37m    ^\u001b[0m\n\u001b[1;31mSyntaxError\u001b[0m\u001b[1;31m:\u001b[0m invalid syntax\n"
     ]
    }
   ],
   "source": [
    "<img src=\"sample.jpg\">"
   ]
  },
  {
   "cell_type": "markdown",
   "metadata": {},
   "source": []
  },
  {
   "cell_type": "markdown",
   "metadata": {},
   "source": [
    "<img src=\"sample.jpg\">"
   ]
  },
  {
   "cell_type": "markdown",
   "metadata": {},
   "source": [
    "<img src=\"rohit.jpg\">"
   ]
  },
  {
   "cell_type": "markdown",
   "metadata": {},
   "source": [
    "<img src=\"https://images.indianexpress.com/2020/11/rohit-sharma-4.jpg\">"
   ]
  },
  {
   "cell_type": "markdown",
   "metadata": {},
   "source": [
    "<img src=\"rohit.jpg\" height=250px width=100px>"
   ]
  },
  {
   "cell_type": "markdown",
   "metadata": {},
   "source": [
    "[Google](https://www.google.in)"
   ]
  },
  {
   "cell_type": "markdown",
   "metadata": {},
   "source": [
    "# Bullet Points\n",
    "\n",
    "+ Programming\n",
    "- Wed\n",
    "* Social Websites"
   ]
  },
  {
   "cell_type": "markdown",
   "metadata": {},
   "source": [
    "# Bullet Points\n",
    "\n",
    "+ Programming\n",
    "    + C\n",
    "    - Java\n",
    "    * Python\n",
    "    \n",
    "- Web\n",
    "    + Html\n",
    "    - CSS\n",
    "    * Js\n",
    "   \n",
    "* Social Websites\n",
    "    + Facebook\n",
    "    - Twitter\n",
    "    * Instagram"
   ]
  },
  {
   "cell_type": "markdown",
   "metadata": {},
   "source": [
    "# order list\n",
    "\n",
    "1. Bootstrap\n",
    "\n",
    "100. Jquery\n",
    "\n",
    "500. Ajax\n",
    "\n",
    "1000. Angularjs"
   ]
  },
  {
   "cell_type": "markdown",
   "metadata": {},
   "source": [
    "# unorder list\n",
    "\n",
    "1. Django\n",
    "\n",
    "+ Flask\n",
    "\n",
    "3. Bottle \n",
    "\n",
    "- cherrypy"
   ]
  },
  {
   "cell_type": "markdown",
   "metadata": {},
   "source": [
    "# Introduction of Python\n",
    "\n",
    "# History of Python\n",
    "\n",
    "# Keywords or Reserved words in Python\n",
    "\n",
    "# Variables in Pyhton\n",
    "\n",
    "# Operators in Python\n",
    "\n",
    "# Comments in Python\n",
    "\n",
    "# Control flow Statements"
   ]
  },
  {
   "cell_type": "markdown",
   "metadata": {},
   "source": [
    "# Introduction To Python \n",
    "\n",
    "   + Highlevel\n",
    "   - Object orinented programming\n",
    "   + Interpreted\n",
    "   + Dynamic \n",
    "   + Multipurpose\n",
    "   \n",
    "# History of Python\n",
    "\n",
    "    + In 1980's started implememntation of python\n",
    "    + In 1991's realesed 0.9.0 version\n",
    "    + In 1994 realsed 1.0 version with features of Anonymous Functions like Lambda,Map,Filter,Reduce\n",
    "    + In 2000 again republished 2.0 version with features of data structures likie List,Tuple, Dictionary,Sets\n",
    "    + In 2008 again republished 3.0 with features of garbage \n",
    "    "
   ]
  },
  {
   "cell_type": "code",
   "execution_count": 6,
   "metadata": {},
   "outputs": [
    {
     "data": {
      "text/plain": [
       "['False',\n",
       " 'None',\n",
       " 'True',\n",
       " 'and',\n",
       " 'as',\n",
       " 'assert',\n",
       " 'async',\n",
       " 'await',\n",
       " 'break',\n",
       " 'class',\n",
       " 'continue',\n",
       " 'def',\n",
       " 'del',\n",
       " 'elif',\n",
       " 'else',\n",
       " 'except',\n",
       " 'finally',\n",
       " 'for',\n",
       " 'from',\n",
       " 'global',\n",
       " 'if',\n",
       " 'import',\n",
       " 'in',\n",
       " 'is',\n",
       " 'lambda',\n",
       " 'nonlocal',\n",
       " 'not',\n",
       " 'or',\n",
       " 'pass',\n",
       " 'raise',\n",
       " 'return',\n",
       " 'try',\n",
       " 'while',\n",
       " 'with',\n",
       " 'yield']"
      ]
     },
     "execution_count": 6,
     "metadata": {},
     "output_type": "execute_result"
    }
   ],
   "source": [
    "# Keywords or Reserved words\n",
    "import keyword\n",
    "dir(keyword)\n",
    "\n",
    "keyword.iskeyword('is')\n",
    "keyword.iskeyword('iss')\n",
    "keyword.kwlist"
   ]
  },
  {
   "cell_type": "code",
   "execution_count": 12,
   "metadata": {},
   "outputs": [
    {
     "name": "stdout",
     "output_type": "stream",
     "text": [
      "10\n",
      "100\n",
      "hello\n"
     ]
    }
   ],
   "source": [
    "# Variable Declaration\n",
    "\n",
    "a=10\n",
    "#1b=100\n",
    "b1=100\n",
    "_c='hello'\n",
    "print(a)\n",
    "#print(1b)\n",
    "print(b1)\n",
    "print(_c)"
   ]
  },
  {
   "cell_type": "code",
   "execution_count": 13,
   "metadata": {},
   "outputs": [
    {
     "name": "stdout",
     "output_type": "stream",
     "text": [
      "10\n",
      "10\n",
      "10\n",
      "10\n"
     ]
    }
   ],
   "source": [
    "# How to Store single value in multiple variables\n",
    "\n",
    "a=b=c=d=10\n",
    "print(a)\n",
    "print(b)\n",
    "print(c)\n",
    "print(d)"
   ]
  },
  {
   "cell_type": "code",
   "execution_count": 16,
   "metadata": {},
   "outputs": [
    {
     "name": "stdout",
     "output_type": "stream",
     "text": [
      "1\n",
      "6\n",
      "1\n",
      "0\n"
     ]
    }
   ],
   "source": [
    "# How to Store multiples values in multiple varaiables\n",
    "\n",
    "a,b,c,d=1,6,1,0\n",
    "print(a)\n",
    "print(b)\n",
    "print(c)\n",
    "print(d)"
   ]
  },
  {
   "cell_type": "code",
   "execution_count": null,
   "metadata": {},
   "outputs": [],
   "source": [
    "# operators \n",
    "\n",
    "1. Arthmetic Operator(+,-,*,/,%,//,**)\n",
    "2. Relational or Comparision Operator(<,>,<=,>=,<=,>=,==,!=)\n",
    "3. "
   ]
  }
 ],
 "metadata": {
  "kernelspec": {
   "display_name": "Python 3",
   "language": "python",
   "name": "python3"
  },
  "language_info": {
   "codemirror_mode": {
    "name": "ipython",
    "version": 3
   },
   "file_extension": ".py",
   "mimetype": "text/x-python",
   "name": "python",
   "nbconvert_exporter": "python",
   "pygments_lexer": "ipython3",
   "version": "3.7.3"
  }
 },
 "nbformat": 4,
 "nbformat_minor": 2
}
